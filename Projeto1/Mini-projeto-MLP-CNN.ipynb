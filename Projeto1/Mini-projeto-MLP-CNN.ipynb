{
 "cells": [
  {
   "cell_type": "markdown",
   "id": "64eef3cc",
   "metadata": {},
   "source": [
    "# Mini Projeto MLP CNN"
   ]
  },
  {
   "cell_type": "markdown",
   "id": "e773e2f6",
   "metadata": {},
   "source": [
    "## Libraries and Functions"
   ]
  },
  {
   "cell_type": "markdown",
   "id": "d622590f",
   "metadata": {},
   "source": [
    "### Pytorch"
   ]
  },
  {
   "cell_type": "code",
   "execution_count": 68,
   "id": "25c8b48c",
   "metadata": {},
   "outputs": [],
   "source": [
    "import torch\n",
    "import torch.nn as nn\n",
    "import torch.nn.functional as F\n",
    "from torch.utils.data.dataloader import DataLoader\n",
    "from torch.utils.data import random_split\n",
    "import torch.optim as optim\n",
    "from torch.utils.data import (Dataset,\n",
    "                             DataLoader,\n",
    "                            random_split,\n",
    "                            SubsetRandomSampler,\n",
    "                            WeightedRandomSampler)"
   ]
  },
  {
   "cell_type": "markdown",
   "id": "c25024d6",
   "metadata": {},
   "source": [
    "### Torch Vision"
   ]
  },
  {
   "cell_type": "code",
   "execution_count": 69,
   "id": "60fe76de",
   "metadata": {},
   "outputs": [],
   "source": [
    "import torchvision\n",
    "from torchvision import models\n",
    "from torchvision.transforms import ToTensor\n",
    "from torchvision.utils import make_grid\n",
    "from torchvision import transforms\n",
    "from torchvision.datasets import MNIST"
   ]
  },
  {
   "cell_type": "markdown",
   "id": "3571c304",
   "metadata": {},
   "source": [
    "### Auxiliar Libraries"
   ]
  },
  {
   "cell_type": "code",
   "execution_count": 70,
   "id": "a093b89d",
   "metadata": {},
   "outputs": [],
   "source": [
    "import numpy as np\n",
    "import matplotlib.pyplot as plt\n",
    "from sklearn.metrics import confusion_matrix, classification_report\n",
    "import seaborn as sns"
   ]
  },
  {
   "cell_type": "markdown",
   "id": "ce32f763",
   "metadata": {},
   "source": [
    "### Global Configurations"
   ]
  },
  {
   "cell_type": "code",
   "execution_count": null,
   "id": "cdee353d",
   "metadata": {},
   "outputs": [],
   "source": []
  },
  {
   "cell_type": "markdown",
   "id": "f3106d8e",
   "metadata": {},
   "source": [
    "### Auxiliar Functions"
   ]
  },
  {
   "cell_type": "code",
   "execution_count": 71,
   "id": "1a3ad652",
   "metadata": {},
   "outputs": [],
   "source": [
    "def get_device():\n",
    "  device = torch.device(\"cuda:0\" if torch.cuda.is_available() else \"cpu\")\n",
    "  print(\"Device: \", device)\n",
    "  return device"
   ]
  },
  {
   "cell_type": "markdown",
   "id": "762928d0",
   "metadata": {},
   "source": [
    "### Data"
   ]
  },
  {
   "cell_type": "code",
   "execution_count": 72,
   "id": "4182cc88",
   "metadata": {},
   "outputs": [
    {
     "name": "stdout",
     "output_type": "stream",
     "text": [
      "Training Data: 48000\n",
      "Validation Data: 12000\n",
      "Test Data: 10000\n"
     ]
    }
   ],
   "source": [
    "train_data = MNIST('data/',train=True, download=True,transform=transforms.ToTensor())\n",
    "test_data = MNIST('data/',train=False, download=True,transform=transforms.ToTensor())\n",
    "\n",
    "\n",
    "\n",
    "train_data_size = int(len(train_data)*0.8)\n",
    "valid_data_size = len(train_data) - train_data_size\n",
    "train_data, valid_data = random_split(train_data, [train_data_size, valid_data_size])\n",
    "\n",
    "\n",
    "#to_tensor = transforms.ToTensor()\n",
    "#train_data = torch.tensor(train_data)\n",
    "#valid_data = to_tensor(valid_data)\n",
    "#test_data = to_tensor(test_data)\n",
    "\n",
    "print(\"Training Data:\", len(train_data))\n",
    "print(\"Validation Data:\", len(valid_data))\n",
    "print(\"Test Data:\", len(test_data))\n"
   ]
  },
  {
   "cell_type": "code",
   "execution_count": 73,
   "id": "e81b52f2",
   "metadata": {},
   "outputs": [],
   "source": [
    "test = MNIST('data/',train=True, download=True)\n"
   ]
  },
  {
   "cell_type": "code",
   "execution_count": 74,
   "id": "2e28d705",
   "metadata": {},
   "outputs": [
    {
     "name": "stdout",
     "output_type": "stream",
     "text": [
      "<class 'torch.utils.data.dataset.Subset'>\n",
      "<class 'torchvision.datasets.mnist.MNIST'>\n"
     ]
    }
   ],
   "source": [
    "print(type(train_data))\n",
    "foo = MNIST('data/',train=True, download=True, transform=transforms.ToTensor())\n",
    "print(type(foo))"
   ]
  },
  {
   "cell_type": "markdown",
   "id": "99d1d73a",
   "metadata": {},
   "source": [
    "## MLP"
   ]
  },
  {
   "cell_type": "code",
   "execution_count": null,
   "id": "b21d1dd4",
   "metadata": {},
   "outputs": [],
   "source": []
  },
  {
   "cell_type": "markdown",
   "id": "4c74f85f",
   "metadata": {},
   "source": [
    "## CNN"
   ]
  },
  {
   "cell_type": "markdown",
   "id": "c15480d5",
   "metadata": {},
   "source": [
    "### Lenet5"
   ]
  },
  {
   "cell_type": "code",
   "execution_count": 77,
   "id": "997aca91",
   "metadata": {},
   "outputs": [],
   "source": [
    "train_dataloader = DataLoader(train_data,batch_size=len(train_data),shuffle=True)\n",
    "valid_dataloader = DataLoader(valid_data,batch_size=len(valid_data),shuffle=True)\n",
    "test_dataloader = DataLoader(test_data,batch_size=len(test_data),shuffle=True)"
   ]
  },
  {
   "cell_type": "code",
   "execution_count": 83,
   "id": "9e35aae7",
   "metadata": {},
   "outputs": [
    {
     "name": "stdout",
     "output_type": "stream",
     "text": [
      "256\n",
      "256\n",
      "256\n",
      "256\n",
      "256\n",
      "256\n",
      "256\n",
      "256\n",
      "256\n",
      "256\n",
      "256\n",
      "256\n",
      "256\n",
      "256\n",
      "256\n",
      "256\n",
      "256\n",
      "256\n",
      "256\n",
      "256\n",
      "256\n",
      "256\n",
      "256\n",
      "256\n",
      "256\n",
      "256\n",
      "256\n",
      "256\n",
      "256\n",
      "256\n",
      "256\n",
      "256\n",
      "256\n",
      "256\n",
      "256\n",
      "256\n",
      "256\n",
      "256\n",
      "256\n",
      "256\n",
      "256\n",
      "256\n",
      "256\n",
      "256\n",
      "256\n",
      "256\n",
      "256\n",
      "256\n",
      "256\n",
      "256\n",
      "256\n",
      "256\n",
      "256\n",
      "256\n",
      "256\n",
      "256\n",
      "256\n",
      "256\n",
      "256\n",
      "256\n",
      "256\n",
      "256\n",
      "256\n",
      "256\n",
      "256\n",
      "256\n",
      "256\n",
      "256\n",
      "256\n",
      "256\n",
      "256\n",
      "256\n",
      "256\n",
      "256\n",
      "256\n",
      "256\n",
      "256\n",
      "256\n",
      "256\n",
      "256\n",
      "256\n",
      "256\n",
      "256\n",
      "256\n",
      "256\n",
      "256\n",
      "256\n",
      "256\n",
      "256\n",
      "256\n",
      "256\n",
      "256\n",
      "256\n",
      "256\n",
      "256\n",
      "256\n",
      "256\n",
      "256\n",
      "256\n",
      "256\n",
      "256\n",
      "256\n",
      "256\n",
      "256\n",
      "256\n",
      "256\n",
      "256\n",
      "256\n",
      "256\n",
      "256\n",
      "256\n",
      "256\n",
      "256\n",
      "256\n",
      "256\n",
      "256\n",
      "256\n",
      "256\n",
      "256\n",
      "256\n",
      "256\n",
      "256\n",
      "256\n",
      "256\n",
      "256\n",
      "256\n",
      "256\n",
      "256\n",
      "256\n",
      "256\n",
      "256\n",
      "256\n",
      "256\n",
      "256\n",
      "256\n",
      "256\n",
      "256\n",
      "256\n",
      "256\n",
      "256\n",
      "256\n",
      "256\n",
      "256\n",
      "256\n",
      "256\n",
      "256\n",
      "256\n",
      "256\n",
      "256\n",
      "256\n",
      "256\n",
      "256\n",
      "256\n",
      "256\n",
      "256\n",
      "256\n",
      "256\n",
      "256\n",
      "256\n",
      "256\n",
      "256\n",
      "256\n",
      "256\n",
      "256\n",
      "256\n",
      "256\n",
      "256\n",
      "256\n",
      "256\n",
      "256\n",
      "256\n",
      "256\n",
      "256\n",
      "256\n",
      "256\n",
      "256\n",
      "256\n",
      "256\n",
      "256\n",
      "256\n",
      "256\n",
      "256\n",
      "256\n",
      "256\n",
      "256\n",
      "256\n",
      "256\n",
      "128\n"
     ]
    }
   ],
   "source": [
    "for data in train_dataloader:\n",
    "  print(len(data[0]))"
   ]
  }
 ],
 "metadata": {
  "kernelspec": {
   "display_name": "Python 3.10.4 64-bit",
   "language": "python",
   "name": "python3"
  },
  "language_info": {
   "codemirror_mode": {
    "name": "ipython",
    "version": 3
   },
   "file_extension": ".py",
   "mimetype": "text/x-python",
   "name": "python",
   "nbconvert_exporter": "python",
   "pygments_lexer": "ipython3",
   "version": "3.10.4"
  },
  "vscode": {
   "interpreter": {
    "hash": "916dbcbb3f70747c44a77c7bcd40155683ae19c65e1c03b4aa3499c5328201f1"
   }
  }
 },
 "nbformat": 4,
 "nbformat_minor": 5
}
